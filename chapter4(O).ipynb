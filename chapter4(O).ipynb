{
 "cells": [
  {
   "cell_type": "code",
   "execution_count": 29,
   "metadata": {},
   "outputs": [],
   "source": [
    "#Recursive calls -- \n",
    "# not every time if the function is called n time means  that it will  take n memory\n",
    "# def sum (n):\n",
    "#     s=0\n",
    "#     for i in range (n):\n",
    "#         s=i+ sum  (i)\n",
    "#     return s\n",
    "# # 5\n",
    "# # s=0+0\n",
    "# # s=0+1+1+...\n",
    "# # --\n",
    "# # sum 0 +0\n",
    "# # sum(1)+2\n",
    "\n",
    "# # --\n",
    "# # 0\n",
    "# # sum 0 s=0\n",
    "# # s=0+sum(1)\n",
    "# ## call n time - memo o(n)\n",
    "# def pair  (n):\n",
    "#     s=0\n",
    "#     for i  in range (n):\n",
    "#         s=i+paircall(n,n+1)\n",
    "#     return s\n",
    "# def paircall (a , b ):\n",
    "#      return max(0,a)+max(0,b)\n",
    "# ## meme o(1)"
   ]
  },
  {
   "cell_type": "code",
   "execution_count": 16,
   "metadata": {},
   "outputs": [
    {
     "data": {
      "text/plain": [
       "10"
      ]
     },
     "execution_count": 16,
     "metadata": {},
     "output_type": "execute_result"
    }
   ],
   "source": [
    "sum (5)"
   ]
  },
  {
   "cell_type": "code",
   "execution_count": 30,
   "metadata": {},
   "outputs": [
    {
     "data": {
      "text/plain": [
       "15"
      ]
     },
     "execution_count": 30,
     "metadata": {},
     "output_type": "execute_result"
    }
   ],
   "source": [
    "pair(5)"
   ]
  },
  {
   "cell_type": "code",
   "execution_count": 26,
   "metadata": {},
   "outputs": [],
   "source": [
    "# bottom up \n",
    "def botup(n):\n",
    "\n",
    "    if (n <=0):\n",
    "        return 0\n",
    "    \n",
    "    return n+botup(n-1)\n",
    "## memo O (n)\n",
    "def pair  (n):\n",
    "    s=0\n",
    "    for i  in range (n):\n",
    "        s=i+paircall(n,n+1)\n",
    "    return s\n",
    "def paircall (a , b ):\n",
    "     return max(0,a)+max(0,b)\n",
    "\n"
   ]
  },
  {
   "cell_type": "code",
   "execution_count": 22,
   "metadata": {},
   "outputs": [
    {
     "data": {
      "text/plain": [
       "15"
      ]
     },
     "execution_count": 22,
     "metadata": {},
     "output_type": "execute_result"
    }
   ],
   "source": [
    "botup(5)"
   ]
  }
 ],
 "metadata": {
  "kernelspec": {
   "display_name": "base",
   "language": "python",
   "name": "python3"
  },
  "language_info": {
   "codemirror_mode": {
    "name": "ipython",
    "version": 3
   },
   "file_extension": ".py",
   "mimetype": "text/x-python",
   "name": "python",
   "nbconvert_exporter": "python",
   "pygments_lexer": "ipython3",
   "version": "3.11.4"
  }
 },
 "nbformat": 4,
 "nbformat_minor": 2
}
